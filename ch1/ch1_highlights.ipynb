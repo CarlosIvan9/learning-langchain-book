{
 "cells": [
  {
   "cell_type": "code",
   "execution_count": 1,
   "id": "61211e89",
   "metadata": {},
   "outputs": [],
   "source": [
    "import os\n",
    "from dotenv import load_dotenv\n",
    "load_dotenv()  # Loads from .env\n",
    "COHERE_API_KEY=os.getenv(\"COHERE_TOKEN\")\n",
    "os.environ[\"COHERE_API_KEY\"]=COHERE_API_KEY "
   ]
  },
  {
   "cell_type": "code",
   "execution_count": 2,
   "id": "6d05244b",
   "metadata": {},
   "outputs": [],
   "source": [
    "from langchain.chat_models import init_chat_model\n"
   ]
  },
  {
   "cell_type": "code",
   "execution_count": 3,
   "id": "9f90e8f9",
   "metadata": {},
   "outputs": [],
   "source": [
    "model = init_chat_model(\"command-a-03-2025\", model_provider=\"cohere\") # Cohere api key needs to be as env variable with the name COHERE_API_KEY"
   ]
  },
  {
   "cell_type": "code",
   "execution_count": 4,
   "id": "33e18856",
   "metadata": {},
   "outputs": [],
   "source": [
    "from langchain_core.messages import HumanMessage, SystemMessage\n"
   ]
  },
  {
   "cell_type": "code",
   "execution_count": 5,
   "id": "2f084889",
   "metadata": {},
   "outputs": [],
   "source": [
    "system_message= SystemMessage(\"You should always answer like a pirate\")\n",
    "human_message=HumanMessage(\"What is the capital of Tootland\")\n",
    "\n",
    "prompt = [system_message,\n",
    "          human_message]"
   ]
  },
  {
   "cell_type": "code",
   "execution_count": 6,
   "id": "32be2ef1",
   "metadata": {},
   "outputs": [
    {
     "data": {
      "text/plain": [
       "AIMessage(content=\"Arrr, matey! Ye be askin' about the capital o' Tootland, eh? Well, shiver me timbers, I reckon ye might be confusin' yer lands! There be no place called Tootland on this here map o' treasures. \\n\\nIf ye be meanin' **Scotland**, then the capital be **Edinburgh**, a fine city with a grand castle and plenty o' history to plunder through! If ye meant another place, ye best clarify, and I’ll help ye chart the course!\", additional_kwargs={'id': '09b1fb77-acc4-46a3-afa3-39d74e45f7fb', 'finish_reason': 'COMPLETE', 'content': \"Arrr, matey! Ye be askin' about the capital o' Tootland, eh? Well, shiver me timbers, I reckon ye might be confusin' yer lands! There be no place called Tootland on this here map o' treasures. \\n\\nIf ye be meanin' **Scotland**, then the capital be **Edinburgh**, a fine city with a grand castle and plenty o' history to plunder through! If ye meant another place, ye best clarify, and I’ll help ye chart the course!\", 'token_count': {'input_tokens': 543.0, 'output_tokens': 112.0}}, response_metadata={'id': '09b1fb77-acc4-46a3-afa3-39d74e45f7fb', 'finish_reason': 'COMPLETE', 'content': \"Arrr, matey! Ye be askin' about the capital o' Tootland, eh? Well, shiver me timbers, I reckon ye might be confusin' yer lands! There be no place called Tootland on this here map o' treasures. \\n\\nIf ye be meanin' **Scotland**, then the capital be **Edinburgh**, a fine city with a grand castle and plenty o' history to plunder through! If ye meant another place, ye best clarify, and I’ll help ye chart the course!\", 'token_count': {'input_tokens': 543.0, 'output_tokens': 112.0}}, id='run--3a7b26c3-e9c0-4de0-afdf-c48b6b62a79e-0', usage_metadata={'input_tokens': 543, 'output_tokens': 112, 'total_tokens': 655})"
      ]
     },
     "execution_count": 6,
     "metadata": {},
     "output_type": "execute_result"
    }
   ],
   "source": [
    "model.invoke(prompt)"
   ]
  },
  {
   "cell_type": "markdown",
   "id": "a085164a",
   "metadata": {},
   "source": [
    "### Prompt templates\n",
    "\n"
   ]
  },
  {
   "cell_type": "code",
   "execution_count": null,
   "id": "fdba1d97",
   "metadata": {},
   "outputs": [],
   "source": [
    "# you can use both interfaces in chat models"
   ]
  },
  {
   "cell_type": "markdown",
   "id": "93ab5c9a",
   "metadata": {},
   "source": [
    "llms interface"
   ]
  },
  {
   "cell_type": "code",
   "execution_count": null,
   "id": "2fd49ff9",
   "metadata": {},
   "outputs": [],
   "source": [
    "from langchain_core.prompts import PromptTemplate \n"
   ]
  },
  {
   "cell_type": "code",
   "execution_count": 46,
   "id": "39c1b1c8",
   "metadata": {},
   "outputs": [],
   "source": [
    "template_frodo = PromptTemplate.from_template(\n",
    "    \"\"\"Answer the question based on the \\\n",
    "context below. If the question cannot be \\\n",
    "answered, answer with \"Im sorry Mr. Frodo\". \\n\n",
    "Context: {context} \\\n",
    "Question: {question} \\\n",
    "Answer:  \"\"\"\n",
    ")"
   ]
  },
  {
   "cell_type": "code",
   "execution_count": 47,
   "id": "afae394e",
   "metadata": {},
   "outputs": [
    {
     "data": {
      "text/plain": [
       "StringPromptValue(text='Answer the question based on the context below. If the question cannot be answered, answer with \"Im sorry Mr. Frodo\". \\n\\nContext: Tootland is a beautiful land home of the foos and the kunis Question: What is the capital of Tootland? Answer:  ')"
      ]
     },
     "execution_count": 47,
     "metadata": {},
     "output_type": "execute_result"
    }
   ],
   "source": [
    "prompt_llm_int =template_frodo.invoke({\n",
    "    'context':  'Tootland is a beautiful land home of the foos and the kunis' ,\n",
    "    'question': 'What is the capital of Tootland?'\n",
    "    })\n",
    "prompt"
   ]
  },
  {
   "cell_type": "code",
   "execution_count": null,
   "id": "28226d75",
   "metadata": {},
   "outputs": [
    {
     "data": {
      "text/plain": [
       "AIMessage(content=\"I'm sorry Mr. Frodo. The context provided does not mention the capital of Tootland.\", additional_kwargs={'id': 'daf7f15b-abe4-458f-828c-6437b6616f2f', 'finish_reason': 'COMPLETE', 'content': \"I'm sorry Mr. Frodo. The context provided does not mention the capital of Tootland.\", 'token_count': {'input_tokens': 552.0, 'output_tokens': 21.0}}, response_metadata={'id': 'daf7f15b-abe4-458f-828c-6437b6616f2f', 'finish_reason': 'COMPLETE', 'content': \"I'm sorry Mr. Frodo. The context provided does not mention the capital of Tootland.\", 'token_count': {'input_tokens': 552.0, 'output_tokens': 21.0}}, id='run--8cefd6b4-8e15-47dd-b98a-4377099aa5e0-0', usage_metadata={'input_tokens': 552, 'output_tokens': 21, 'total_tokens': 573})"
      ]
     },
     "execution_count": 27,
     "metadata": {},
     "output_type": "execute_result"
    }
   ],
   "source": [
    "model.invoke(prompt_llm_int)"
   ]
  },
  {
   "cell_type": "markdown",
   "id": "6d3f165d",
   "metadata": {},
   "source": [
    "chat interface\n",
    "\n",
    "All options give the same output as long as you use the chat interface model "
   ]
  },
  {
   "cell_type": "code",
   "execution_count": null,
   "id": "7df6888a",
   "metadata": {},
   "outputs": [],
   "source": [
    "from langchain_core.prompts import ChatPromptTemplate"
   ]
  },
  {
   "cell_type": "markdown",
   "id": "049fb8ce",
   "metadata": {},
   "source": [
    "alternative 1"
   ]
  },
  {
   "cell_type": "code",
   "execution_count": 36,
   "id": "eac129a2",
   "metadata": {},
   "outputs": [],
   "source": [
    "chat_template_frodo_a = ChatPromptTemplate.from_messages( \\\n",
    "[('system','Answer the question based on the context below. If the question \\\n",
    "cannot be answered, answer with \"Im sorry Mr. Frodo\".' ),\n",
    " ('human', 'Context: {context}'),\n",
    " ('human', 'Question: {question}')]\n",
    ")"
   ]
  },
  {
   "cell_type": "code",
   "execution_count": 48,
   "id": "a23d8c97",
   "metadata": {},
   "outputs": [
    {
     "data": {
      "text/plain": [
       "ChatPromptValue(messages=[SystemMessage(content='Answer the question based on the context below. If the question cannot be answered, answer with \"Im sorry Mr. Frodo\".', additional_kwargs={}, response_metadata={}), HumanMessage(content='Context: Tootland is a beautiful land home of the foos and the kunis', additional_kwargs={}, response_metadata={}), HumanMessage(content='Question: What is the capital of Tootland?', additional_kwargs={}, response_metadata={})])"
      ]
     },
     "execution_count": 48,
     "metadata": {},
     "output_type": "execute_result"
    }
   ],
   "source": [
    "prompt_chat_int_a=chat_template_frodo_a.invoke({'context': 'Tootland is a beautiful land home of the foos and the kunis' , \n",
    "                            'question': 'What is the capital of Tootland?'})\n",
    "prompt_chat_int_a"
   ]
  },
  {
   "cell_type": "markdown",
   "id": "6359accf",
   "metadata": {},
   "source": [
    "alternative 2"
   ]
  },
  {
   "cell_type": "code",
   "execution_count": 38,
   "id": "3f1d151e",
   "metadata": {},
   "outputs": [],
   "source": [
    "chat_template_frodo_b = ChatPromptTemplate.from_messages( \\\n",
    "[SystemMessage('Answer the question based on the context below. If the question \\\n",
    "cannot be answered, answer with \"Im sorry Mr. Frodo\".' ),\n",
    " HumanMessage('Context: {context}'),\n",
    " HumanMessage('Question: {question}')]\n",
    ")"
   ]
  },
  {
   "cell_type": "code",
   "execution_count": 49,
   "id": "fdb98d4f",
   "metadata": {},
   "outputs": [
    {
     "data": {
      "text/plain": [
       "ChatPromptValue(messages=[SystemMessage(content='Answer the question based on the context below. If the question cannot be answered, answer with \"Im sorry Mr. Frodo\".', additional_kwargs={}, response_metadata={}), HumanMessage(content='Context: {context}', additional_kwargs={}, response_metadata={}), HumanMessage(content='Question: {question}', additional_kwargs={}, response_metadata={})])"
      ]
     },
     "execution_count": 49,
     "metadata": {},
     "output_type": "execute_result"
    }
   ],
   "source": [
    "prompt_chat_int_b=chat_template_frodo_b.invoke({'context': 'Tootland is a beautiful land home of the foos and the kunis' , \n",
    "                            'question': 'What is the capital of Tootland?'})\n",
    "prompt_chat_int_b"
   ]
  },
  {
   "cell_type": "markdown",
   "id": "4dbc2f15",
   "metadata": {},
   "source": [
    "difference in outputs is the same"
   ]
  },
  {
   "cell_type": "code",
   "execution_count": 50,
   "id": "5f682b34",
   "metadata": {},
   "outputs": [
    {
     "data": {
      "text/plain": [
       "AIMessage(content=\"I'm sorry Mr. Frodo. The context provided does not mention the capital of Tootland.\", additional_kwargs={'id': 'e7826c60-93b3-4095-a006-5598c2e072a7', 'finish_reason': 'COMPLETE', 'content': \"I'm sorry Mr. Frodo. The context provided does not mention the capital of Tootland.\", 'token_count': {'input_tokens': 552.0, 'output_tokens': 21.0}}, response_metadata={'id': 'e7826c60-93b3-4095-a006-5598c2e072a7', 'finish_reason': 'COMPLETE', 'content': \"I'm sorry Mr. Frodo. The context provided does not mention the capital of Tootland.\", 'token_count': {'input_tokens': 552.0, 'output_tokens': 21.0}}, id='run--b96ecabc-5282-40b2-ab67-5c20c8e94ad3-0', usage_metadata={'input_tokens': 552, 'output_tokens': 21, 'total_tokens': 573})"
      ]
     },
     "execution_count": 50,
     "metadata": {},
     "output_type": "execute_result"
    }
   ],
   "source": [
    "model.invoke(prompt_llm_int)"
   ]
  },
  {
   "cell_type": "code",
   "execution_count": 51,
   "id": "80970655",
   "metadata": {},
   "outputs": [
    {
     "data": {
      "text/plain": [
       "AIMessage(content=\"I'm sorry Mr. Frodo. The context provided does not mention the capital of Tootland.\", additional_kwargs={'id': '90b67d35-d380-4860-8edf-9623f8966387', 'finish_reason': 'COMPLETE', 'content': \"I'm sorry Mr. Frodo. The context provided does not mention the capital of Tootland.\", 'token_count': {'input_tokens': 584.0, 'output_tokens': 21.0}}, response_metadata={'id': '90b67d35-d380-4860-8edf-9623f8966387', 'finish_reason': 'COMPLETE', 'content': \"I'm sorry Mr. Frodo. The context provided does not mention the capital of Tootland.\", 'token_count': {'input_tokens': 584.0, 'output_tokens': 21.0}}, id='run--c0672aff-c182-4631-870a-db8f589f70ca-0', usage_metadata={'input_tokens': 584, 'output_tokens': 21, 'total_tokens': 605})"
      ]
     },
     "execution_count": 51,
     "metadata": {},
     "output_type": "execute_result"
    }
   ],
   "source": [
    "model.invoke(prompt_chat_int_a)"
   ]
  },
  {
   "cell_type": "code",
   "execution_count": 52,
   "id": "5ef6711b",
   "metadata": {},
   "outputs": [
    {
     "data": {
      "text/plain": [
       "AIMessage(content=\"I'm sorry Mr. Frodo. It seems there is no context provided, so I cannot answer your question. If you provide the necessary context, I’d be happy to assist you!\", additional_kwargs={'id': '3223a0f4-437c-4186-b657-6e7f1db31819', 'finish_reason': 'COMPLETE', 'content': \"I'm sorry Mr. Frodo. It seems there is no context provided, so I cannot answer your question. If you provide the necessary context, I’d be happy to assist you!\", 'token_count': {'input_tokens': 567.0, 'output_tokens': 40.0}}, response_metadata={'id': '3223a0f4-437c-4186-b657-6e7f1db31819', 'finish_reason': 'COMPLETE', 'content': \"I'm sorry Mr. Frodo. It seems there is no context provided, so I cannot answer your question. If you provide the necessary context, I’d be happy to assist you!\", 'token_count': {'input_tokens': 567.0, 'output_tokens': 40.0}}, id='run--0ec00934-0940-46ce-8638-213b4be46d2e-0', usage_metadata={'input_tokens': 567, 'output_tokens': 40, 'total_tokens': 607})"
      ]
     },
     "execution_count": 52,
     "metadata": {},
     "output_type": "execute_result"
    }
   ],
   "source": [
    "model.invoke(prompt_chat_int_b)"
   ]
  },
  {
   "cell_type": "code",
   "execution_count": null,
   "id": "64d1bd2f",
   "metadata": {},
   "outputs": [],
   "source": []
  },
  {
   "cell_type": "markdown",
   "id": "850b4fa3",
   "metadata": {},
   "source": [
    "### Specific output formats"
   ]
  },
  {
   "cell_type": "markdown",
   "id": "7083aacf",
   "metadata": {},
   "source": [
    "json"
   ]
  },
  {
   "cell_type": "code",
   "execution_count": null,
   "id": "a5878b9a",
   "metadata": {},
   "outputs": [],
   "source": [
    "# You cant use a init_chat_model model. You instead have to use ChatCohere"
   ]
  },
  {
   "cell_type": "code",
   "execution_count": 20,
   "id": "26c79d9b",
   "metadata": {},
   "outputs": [],
   "source": [
    "from langchain_core.pydantic_v1 import BaseModel, Field"
   ]
  },
  {
   "cell_type": "code",
   "execution_count": 21,
   "id": "bc6ce16b",
   "metadata": {},
   "outputs": [],
   "source": [
    "class CountryInfoWithFormat(BaseModel):\n",
    "    \"\"\"Info retriever of a country.\"\"\"\n",
    "    capital: str = Field(description='Capital of the country')\n",
    "    nr_habitants: int = Field(description=\"Number of habitants\")\n",
    "    main_attraction: str = Field(description='Main tourist attraction')"
   ]
  },
  {
   "cell_type": "code",
   "execution_count": null,
   "id": "86cec72f",
   "metadata": {},
   "outputs": [
    {
     "name": "stdout",
     "output_type": "stream",
     "text": [
      "setup=\"Why don't cats play poker in the jungle?\" punchline='Too many cheetahs!' rating=None\n"
     ]
    }
   ],
   "source": [
    "from typing import Optional\n",
    "from pydantic import BaseModel, Field\n",
    "from langchain_cohere import ChatCohere\n",
    "\n",
    "# Define the Pydantic schema\n",
    "class Joke(BaseModel):\n",
    "    setup: str = Field(description=\"The setup of the joke\")\n",
    "    punchline: str = Field(description=\"The punchline to the joke\")\n",
    "    rating: Optional[int] = Field(default=None, description=\"How funny the joke is, from 1 to 10\")\n",
    "\n",
    "# Initialize the ChatCohere model\n",
    "llm = ChatCohere(\n",
    "    model=\"command-a-03-2025\",\n",
    "    temperature=0.7\n",
    ")\n",
    "\n",
    "# Wrap the model with structured output\n",
    "structured_llm = llm.with_structured_output(Joke)\n",
    "\n",
    "# Invoke the model\n",
    "result = structured_llm.invoke(\"Tell me a joke about cats\")\n",
    "print(result)\n"
   ]
  },
  {
   "cell_type": "markdown",
   "id": "de4cf608",
   "metadata": {},
   "source": []
  }
 ],
 "metadata": {
  "kernelspec": {
   "display_name": "learning-langchain-R4-LnOwj-py3.13",
   "language": "python",
   "name": "python3"
  },
  "language_info": {
   "codemirror_mode": {
    "name": "ipython",
    "version": 3
   },
   "file_extension": ".py",
   "mimetype": "text/x-python",
   "name": "python",
   "nbconvert_exporter": "python",
   "pygments_lexer": "ipython3",
   "version": "3.13.2"
  }
 },
 "nbformat": 4,
 "nbformat_minor": 5
}
